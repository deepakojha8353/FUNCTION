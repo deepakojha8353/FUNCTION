{
  "nbformat": 4,
  "nbformat_minor": 0,
  "metadata": {
    "colab": {
      "provenance": []
    },
    "kernelspec": {
      "name": "python3",
      "display_name": "Python 3"
    },
    "language_info": {
      "name": "python"
    }
  },
  "cells": [
    {
      "cell_type": "markdown",
      "source": [
        "# **THEORY**\n",
        "\n",
        "1. What is the difference between a function and a method in Python?\n",
        "- Function: A block of code that does a specific task. It can be used without any object.\n",
        "\n",
        "- Method: A function that is called on an object (usually part of a class).\n",
        "\n",
        "2. Explain the concept of function arguments and parameters in Python.\n",
        "- Parameters: Variables in the function definition.\n",
        "\n",
        "- Arguments: The actual values you pass when calling the function.\n",
        "\n",
        "3. What are the different ways to define and call a function in Python?\n",
        "- Define using def keyword.\n",
        "- Call using the function name followed by parentheses.\n",
        "\n",
        "4. What is the purpose of the return statement in a Python function?\n",
        "- It sends back the result from a function to the place where it was called.\n",
        "\n",
        "5. What are iterators in Python and how do they differ from iterables?\n",
        "- Iterable: Can be looped over (like lists, strings).\n",
        "- Iterator: An object that keeps track of the position while looping.\n",
        "6. Explain the concept of generators in Python and how they are defined.\n",
        "- Generators are functions that yield values one at a time.\n",
        "- They save memory because they don’t store all results at once.\n",
        "\n",
        "7. What are the advantages of using generators over regular functions?\n",
        "- Uses less memory.\n",
        "- Faster for large data.\n",
        "- Don’t store the whole output, just one value at a time.\n",
        "\n",
        "8. What is a lambda function in Python and when is it typically used?\n",
        "- A small, anonymous function with no name.\n",
        "- Used for short tasks with functions like map(), filter().\n",
        "\n",
        "9. Explain the purpose and usage of the map() function in Python.\n",
        "- Applies a function to each item in a list (or iterable).\n",
        "\n",
        "10. What is the difference between map(), reduce(), and filter() functions in Python?\n",
        "\n",
        "- Function:\n",
        " - map()\n",
        " -  filter()\n",
        " - reduce()\n",
        "\n",
        "- Purpose:\n",
        " - Transforms items\n",
        " - Keeps only matching items\n",
        " - Combines all into one value\n",
        "\n",
        "- Example:\n",
        " - Multiply all items\n",
        " - Only even numbers\n",
        " - Sum of all items\n",
        "\n",
        "11. (Paper Work) Internal Mechanism of reduce() on [47, 11, 42, 13]\n",
        "\n",
        "-  Step 1: 47 + 11 = 58\n",
        "- Step 2: 58 + 42 = 100\n",
        "- Step 3: 100 + 13 = 113\n",
        "\n",
        "\n",
        "\n",
        "\n",
        "\n"
      ],
      "metadata": {
        "id": "AplNa0Dro5H0"
      }
    },
    {
      "cell_type": "markdown",
      "source": [
        "# **PRACTICAL**"
      ],
      "metadata": {
        "id": "0xNVtgjXIdkQ"
      }
    },
    {
      "cell_type": "code",
      "source": [
        "#1. Write a Python function that takes a list of numbers as input and returns the sum of all even numbers in the list.\n",
        "\n",
        "def sum_of_even_numbers(numbers):\n",
        "    even_sum = 0\n",
        "    for number in numbers:\n",
        "        if number % 2 == 0:\n",
        "            even_sum += number\n",
        "    return even_sum\n",
        "my_numbers = [1, 2, 3, 4, 5, 6]\n",
        "result = sum_of_even_numbers(my_numbers)\n",
        "print(\"The sum of even numbers is:\", result)\n"
      ],
      "metadata": {
        "colab": {
          "base_uri": "https://localhost:8080/"
        },
        "id": "dBpW-YTvwRUf",
        "outputId": "6e2dabe5-629c-4872-af7a-e5ba4a2140c9"
      },
      "execution_count": 4,
      "outputs": [
        {
          "output_type": "stream",
          "name": "stdout",
          "text": [
            "The sum of even numbers is: 12\n"
          ]
        }
      ]
    },
    {
      "cell_type": "code",
      "source": [
        "#2. Create a Python function that accepts a string and returns the reverse of that string.\n",
        "def reverse_string(s):\n",
        "    return s[::-1]\n",
        "my_string = \"Hello, World\"\n",
        "result = reverse_string(my_string)\n",
        "print(\"Reversed string is:\", result)"
      ],
      "metadata": {
        "colab": {
          "base_uri": "https://localhost:8080/"
        },
        "id": "_iRe7CAWziEl",
        "outputId": "b9d1706a-6776-43a9-ed6c-f499b6b2efc9"
      },
      "execution_count": 6,
      "outputs": [
        {
          "output_type": "stream",
          "name": "stdout",
          "text": [
            "Reversed string is: dlroW ,olleH\n"
          ]
        }
      ]
    },
    {
      "cell_type": "code",
      "source": [
        "#3. Implement a Python function that takes a list of integers and returns a new list containing the squares of each number.\n",
        "def square_numbers(numbers):\n",
        "    return [number ** 2 for number in numbers]\n",
        "my_numbers = [1, 2, 3, 4, 5]\n",
        "result = square_numbers(my_numbers)\n",
        "print(\"Squared numbers are:\", result)\n"
      ],
      "metadata": {
        "colab": {
          "base_uri": "https://localhost:8080/"
        },
        "id": "x_n9apPgz8nw",
        "outputId": "4b8d80a5-831f-4040-c933-1de67a600979"
      },
      "execution_count": 12,
      "outputs": [
        {
          "output_type": "stream",
          "name": "stdout",
          "text": [
            "Squared numbers are: [1, 4, 9, 16, 25]\n"
          ]
        }
      ]
    },
    {
      "cell_type": "code",
      "source": [
        "#4. Write a Python function that checks if a given number is prime or not from 1 to 200.\n",
        "def is_prime(n):\n",
        "    if n <= 1:\n",
        "        return False\n",
        "    for i in range(2, int(n**0.5) + 1):\n",
        "        if n % i == 0:\n",
        "            return False\n",
        "    return True\n",
        "number = 19\n",
        "\n",
        "result = is_prime(number)\n",
        "print(f\"{number} is prime: {result}\")\n"
      ],
      "metadata": {
        "colab": {
          "base_uri": "https://localhost:8080/"
        },
        "id": "k_CJvOAZ0TJh",
        "outputId": "d7d66520-36c6-4fe0-ef87-ef6950e5ecc9"
      },
      "execution_count": 16,
      "outputs": [
        {
          "output_type": "stream",
          "name": "stdout",
          "text": [
            "19 is prime: True\n"
          ]
        }
      ]
    },
    {
      "cell_type": "code",
      "source": [
        "#5. Create an iterator class in Python that generates the Fibonacci sequence up to a specified number of terms.\n",
        "class FibonacciIterator:\n",
        "    def __init__(self, terms):\n",
        "        self.terms = terms\n",
        "        self.current = 0\n",
        "        self.next_value = 1\n",
        "        self.count = 0\n",
        "\n",
        "    def __iter__(self):\n",
        "        return self\n",
        "\n",
        "    def __next__(self):\n",
        "        if self.count < self.terms:\n",
        "            value = self.current\n",
        "            self.current, self.next_value = self.next_value, self.current + self.next_value\n",
        "            self.count += 1\n",
        "            return value\n",
        "        else:\n",
        "            raise StopIteration\n",
        "\n",
        "fibonacci_terms = 10\n",
        "fibonacci_sequence = FibonacciIterator(fibonacci_terms)\n",
        "\n",
        "for number in fibonacci_sequence:\n",
        "    print(number)\n"
      ],
      "metadata": {
        "colab": {
          "base_uri": "https://localhost:8080/"
        },
        "id": "DQ_i8GNe1LKS",
        "outputId": "ed62684a-cd9b-453c-a3f2-a3017d4df3c2"
      },
      "execution_count": 17,
      "outputs": [
        {
          "output_type": "stream",
          "name": "stdout",
          "text": [
            "0\n",
            "1\n",
            "1\n",
            "2\n",
            "3\n",
            "5\n",
            "8\n",
            "13\n",
            "21\n",
            "34\n"
          ]
        }
      ]
    },
    {
      "cell_type": "code",
      "source": [
        "#6. Write a generator function in Python that yields the powers of 2 up to a given exponent.\n",
        "def powers_of_two(exponent):\n",
        "    for i in range(exponent + 1):\n",
        "        yield 2 ** i\n",
        "exponent = 5\n",
        "powers = powers_of_two(exponent)\n",
        "\n",
        "for power in powers:\n",
        "    print(power)"
      ],
      "metadata": {
        "colab": {
          "base_uri": "https://localhost:8080/"
        },
        "id": "k4AVFdqy1f2M",
        "outputId": "1ba1be85-2dc6-4c29-afe4-bd628a8b8230"
      },
      "execution_count": 25,
      "outputs": [
        {
          "output_type": "stream",
          "name": "stdout",
          "text": [
            "1\n",
            "2\n",
            "4\n",
            "8\n",
            "16\n",
            "32\n"
          ]
        }
      ]
    },
    {
      "cell_type": "code",
      "source": [
        "#7. Implement a generator function that reads a file line by line and yields each line as a string.\n",
        "def read_file_lines(file_path):\n",
        "    with open(file_path, 'r') as file:\n",
        "        for line in file:\n",
        "            yield line\n",
        "file_path = 'example.txt'\n",
        "lines = read_file_lines(file_path)"
      ],
      "metadata": {
        "id": "YGK5Fafv1t_2"
      },
      "execution_count": 72,
      "outputs": []
    },
    {
      "cell_type": "code",
      "source": [
        "#8. Use a lambda function in Python to sort a list of tuples based on the second element of each tuple.\n",
        "data = [(1, 5), (3, 2), (2, 8), (4, 1)]\n",
        "sorted_data = sorted(data, key=lambda x: x[1])\n",
        "print(sorted_data)"
      ],
      "metadata": {
        "colab": {
          "base_uri": "https://localhost:8080/"
        },
        "id": "MRb1J90a2MbU",
        "outputId": "250148b3-2bc3-4cec-dbda-bf7a3bb3d1d8"
      },
      "execution_count": 33,
      "outputs": [
        {
          "output_type": "stream",
          "name": "stdout",
          "text": [
            "[(4, 1), (3, 2), (1, 5), (2, 8)]\n"
          ]
        }
      ]
    },
    {
      "cell_type": "code",
      "source": [
        "#9. Write a Python program that uses `map()` to convert a list of temperatures from Celsius to Fahrenheit.\n",
        "celsius = [0, 10, 20, 30]\n",
        "fahrenheit = list(map(lambda c: (c * 9/5) + 32, celsius))\n",
        "print(fahrenheit)\n"
      ],
      "metadata": {
        "colab": {
          "base_uri": "https://localhost:8080/"
        },
        "id": "w0iKCHSS_GW6",
        "outputId": "bb2b8b9f-4bfd-4c59-97b4-7588cf3d55e6"
      },
      "execution_count": 46,
      "outputs": [
        {
          "output_type": "stream",
          "name": "stdout",
          "text": [
            "[32.0, 50.0, 68.0, 86.0]\n"
          ]
        }
      ]
    },
    {
      "cell_type": "code",
      "source": [
        "#10. Create a Python program that uses `filter()` to remove all the vowels from a given string.\n",
        "def remove_vowels(string):\n",
        "    vowels = \"aeiouAEIOU\"\n",
        "    return \"\".join(filter(lambda char: char not in vowels, string))\n",
        "my_string = \"Hello, World\"\n",
        "result = remove_vowels(my_string)\n",
        "print(\"String without vowels:\", result)"
      ],
      "metadata": {
        "colab": {
          "base_uri": "https://localhost:8080/"
        },
        "id": "btXX2mKV_NWf",
        "outputId": "5dd6ac60-e94a-413b-c5d7-cd4c80e24fef"
      },
      "execution_count": 44,
      "outputs": [
        {
          "output_type": "stream",
          "name": "stdout",
          "text": [
            "String without vowels: Hll, Wrld\n"
          ]
        }
      ]
    },
    {
      "cell_type": "code",
      "source": [
        "#11) Imagine an accounting routine used in a book shop. It works on a list with sublists, which look like this:\n",
        "orders = [\n",
        "    [34587, \"Learning Python\", 4, 40.95],\n",
        "    [98762, \"Data Science\", 1, 30.00],\n",
        "    [77226, \"AI Handbook\", 5, 56.00],\n",
        "    [88112, \"ML Basics\", 3, 25.50]\n",
        "]\n",
        "\n",
        "order_totals = list(map(lambda order: (\n",
        "    order[0],\n",
        "    order[2] * order[3] + 10 if order[2] * order[3] < 100 else order[2] * order[3]\n",
        "), orders))\n",
        "print(order_totals)\n",
        "\n"
      ],
      "metadata": {
        "colab": {
          "base_uri": "https://localhost:8080/"
        },
        "id": "dmDiwgNI_fK8",
        "outputId": "d1099938-d598-4485-fa84-4d2d53573da9"
      },
      "execution_count": 41,
      "outputs": [
        {
          "output_type": "stream",
          "name": "stdout",
          "text": [
            "[(34587, 163.8), (98762, 40.0), (77226, 280.0), (88112, 86.5)]\n"
          ]
        }
      ]
    },
    {
      "cell_type": "code",
      "source": [],
      "metadata": {
        "id": "pb99fZvxBAgc"
      },
      "execution_count": null,
      "outputs": []
    }
  ]
}